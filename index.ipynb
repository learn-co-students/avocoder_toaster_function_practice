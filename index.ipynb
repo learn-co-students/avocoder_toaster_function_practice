{
 "cells": [
  {
   "cell_type": "code",
   "execution_count": null,
   "id": "personalized-array",
   "metadata": {},
   "outputs": [],
   "source": [
    "import pandas as pd\n",
    "import numpy as np\n",
    "import matplotlib.pyplot as plt\n",
    "import pickle\n",
    "import json\n",
    "\n",
    "%load_ext autoreload\n",
    "%autoreload 2\n",
    "\n",
    "from src.student_list import avocoder_toasters"
   ]
  },
  {
   "cell_type": "markdown",
   "id": "generous-blink",
   "metadata": {},
   "source": [
    "# Function Task"
   ]
  },
  {
   "cell_type": "markdown",
   "id": "virgin-building",
   "metadata": {},
   "source": [
    "All the students are present in the `avocado_toaster` list imported above. \n",
    "\n",
    "Create a function called `get_students_starting_with` that takes two **arguments** - a letter and a student list - which **returns** a list of all students whose first name starts with that letter. \n",
    "\n"
   ]
  },
  {
   "cell_type": "code",
   "execution_count": null,
   "id": "killing-kenya",
   "metadata": {},
   "outputs": [],
   "source": [
    "# your code here"
   ]
  }
 ],
 "metadata": {
  "kernelspec": {
   "display_name": "learn-env",
   "language": "python",
   "name": "learn-env"
  },
  "language_info": {
   "codemirror_mode": {
    "name": "ipython",
    "version": 3
   },
   "file_extension": ".py",
   "mimetype": "text/x-python",
   "name": "python",
   "nbconvert_exporter": "python",
   "pygments_lexer": "ipython3",
   "version": "3.7.3"
  }
 },
 "nbformat": 4,
 "nbformat_minor": 5
}
