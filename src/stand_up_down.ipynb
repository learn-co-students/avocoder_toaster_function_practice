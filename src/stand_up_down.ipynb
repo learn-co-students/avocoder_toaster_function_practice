{
 "cells": [
  {
   "cell_type": "code",
   "execution_count": 2,
   "metadata": {},
   "outputs": [],
   "source": [
    "from student_caller import n_random_students\n",
    "from student_list import july\n",
    "import numpy as np"
   ]
  },
  {
   "cell_type": "code",
   "execution_count": 3,
   "metadata": {},
   "outputs": [],
   "source": [
    "np.random.seed(42)"
   ]
  },
  {
   "cell_type": "markdown",
   "metadata": {},
   "source": [
    "# Phase 1"
   ]
  },
  {
   "cell_type": "markdown",
   "metadata": {},
   "source": [
    "## Monday AM"
   ]
  },
  {
   "cell_type": "code",
   "execution_count": 4,
   "metadata": {},
   "outputs": [
    {
     "name": "stdout",
     "output_type": "stream",
     "text": [
      "['Titilayo' 'Lorela' 'Seth']\n"
     ]
    }
   ],
   "source": [
    "roses_and_thorns = n_random_students(july, number_of_students=3)\n",
    "print(roses_and_thorns)"
   ]
  },
  {
   "cell_type": "markdown",
   "metadata": {},
   "source": [
    "## Monday PM"
   ]
  },
  {
   "cell_type": "code",
   "execution_count": 5,
   "metadata": {},
   "outputs": [
    {
     "name": "stdout",
     "output_type": "stream",
     "text": [
      "['Raylin' 'Derek' 'Soohyun']\n"
     ]
    }
   ],
   "source": [
    "roses_and_thorns = n_random_students(july, number_of_students=3)\n",
    "print(roses_and_thorns)"
   ]
  },
  {
   "cell_type": "markdown",
   "metadata": {},
   "source": [
    "## Tuesday AM"
   ]
  },
  {
   "cell_type": "code",
   "execution_count": 6,
   "metadata": {},
   "outputs": [
    {
     "name": "stdout",
     "output_type": "stream",
     "text": [
      "['Mellissa' 'Lorela' 'Seth']\n"
     ]
    }
   ],
   "source": [
    "roses_and_thorns = n_random_students(july, number_of_students=3)\n",
    "print(roses_and_thorns)"
   ]
  },
  {
   "cell_type": "markdown",
   "metadata": {},
   "source": [
    "## Tuesday PM"
   ]
  },
  {
   "cell_type": "code",
   "execution_count": 7,
   "metadata": {},
   "outputs": [
    {
     "name": "stdout",
     "output_type": "stream",
     "text": [
      "['Ronak' 'Jesse' 'Titilayo']\n"
     ]
    }
   ],
   "source": [
    "roses_and_thorns = n_random_students(july, number_of_students=3)\n",
    "print(roses_and_thorns)"
   ]
  },
  {
   "cell_type": "markdown",
   "metadata": {},
   "source": [
    "## Wednesday AM"
   ]
  },
  {
   "cell_type": "code",
   "execution_count": null,
   "metadata": {},
   "outputs": [],
   "source": []
  },
  {
   "cell_type": "code",
   "execution_count": 8,
   "metadata": {},
   "outputs": [
    {
     "name": "stdout",
     "output_type": "stream",
     "text": [
      "['Derek' 'Mellissa' 'Rashid']\n"
     ]
    }
   ],
   "source": [
    "roses_and_thorns = n_random_students(july, number_of_students=3)\n",
    "print(roses_and_thorns)"
   ]
  },
  {
   "cell_type": "markdown",
   "metadata": {},
   "source": [
    "## Wednesday PM"
   ]
  },
  {
   "cell_type": "code",
   "execution_count": 9,
   "metadata": {},
   "outputs": [
    {
     "name": "stdout",
     "output_type": "stream",
     "text": [
      "['Eric' 'Titilayo' 'Seth']\n"
     ]
    }
   ],
   "source": [
    "roses_and_thorns = n_random_students(july, number_of_students=3)\n",
    "print(roses_and_thorns)"
   ]
  },
  {
   "cell_type": "markdown",
   "metadata": {},
   "source": [
    "## Thursday AM"
   ]
  },
  {
   "cell_type": "code",
   "execution_count": 10,
   "metadata": {},
   "outputs": [
    {
     "name": "stdout",
     "output_type": "stream",
     "text": [
      "['Lorela' 'Ronak' 'Rashid']\n"
     ]
    }
   ],
   "source": [
    "roses_and_thorns = n_random_students(july, number_of_students=3)\n",
    "print(roses_and_thorns)"
   ]
  },
  {
   "cell_type": "markdown",
   "metadata": {},
   "source": [
    "## Thursday PM"
   ]
  },
  {
   "cell_type": "code",
   "execution_count": 11,
   "metadata": {},
   "outputs": [
    {
     "name": "stdout",
     "output_type": "stream",
     "text": [
      "['Seth' 'Raylin' 'Eric']\n"
     ]
    }
   ],
   "source": [
    "roses_and_thorns = n_random_students(july, number_of_students=3)\n",
    "print(roses_and_thorns)"
   ]
  },
  {
   "cell_type": "markdown",
   "metadata": {},
   "source": [
    "## Friday AM"
   ]
  },
  {
   "cell_type": "code",
   "execution_count": 12,
   "metadata": {},
   "outputs": [
    {
     "name": "stdout",
     "output_type": "stream",
     "text": [
      "['Avi' 'Lorela' 'Allison']\n"
     ]
    }
   ],
   "source": [
    "roses_and_thorns = n_random_students(july, number_of_students=3)\n",
    "print(roses_and_thorns)"
   ]
  },
  {
   "cell_type": "markdown",
   "metadata": {},
   "source": [
    "## Friday PM"
   ]
  },
  {
   "cell_type": "code",
   "execution_count": 13,
   "metadata": {},
   "outputs": [
    {
     "name": "stdout",
     "output_type": "stream",
     "text": [
      "['Lorela' 'Mellissa' 'Seth']\n"
     ]
    }
   ],
   "source": [
    "roses_and_thorns = n_random_students(july, number_of_students=3)\n",
    "print(roses_and_thorns)"
   ]
  },
  {
   "cell_type": "code",
   "execution_count": 18,
   "metadata": {},
   "outputs": [
    {
     "name": "stdout",
     "output_type": "stream",
     "text": [
      "['Mitch' 'Jesse' 'Avi']\n"
     ]
    }
   ],
   "source": [
    "# Wednesday AM\n",
    "roses_and_thorns = n_random_students(july, number_of_students=3)\n",
    "print(roses_and_thorns)"
   ]
  },
  {
   "cell_type": "code",
   "execution_count": null,
   "metadata": {},
   "outputs": [],
   "source": [
    "Eric,Jesse,Mitch\n",
    "\n",
    "Eric: \n",
    "    Rose: Feeling like he is picking up a lot of the information. The knowledge is there.\n",
    "    Thorn: Not doing enough\n",
    "        \n",
    "Jesse:\n",
    "    Thorn: Getting stuck on a problem\n",
    "            Checking in with myself physically\n",
    "    Rose: Teacher school \n",
    "    \n",
    "Mitch:\n",
    "    Rose: Slowly making progress and prioritizing Pandas\n",
    "    Thorn: Simone Biles\n",
    "        "
   ]
  },
  {
   "cell_type": "code",
   "execution_count": null,
   "metadata": {},
   "outputs": [],
   "source": []
  },
  {
   "cell_type": "code",
   "execution_count": null,
   "metadata": {},
   "outputs": [],
   "source": []
  },
  {
   "cell_type": "code",
   "execution_count": null,
   "metadata": {},
   "outputs": [],
   "source": []
  }
 ],
 "metadata": {
  "kernelspec": {
   "display_name": "Python 3",
   "language": "python",
   "name": "python3"
  },
  "language_info": {
   "codemirror_mode": {
    "name": "ipython",
    "version": 3
   },
   "file_extension": ".py",
   "mimetype": "text/x-python",
   "name": "python",
   "nbconvert_exporter": "python",
   "pygments_lexer": "ipython3",
   "version": "3.8.5"
  }
 },
 "nbformat": 4,
 "nbformat_minor": 4
}
